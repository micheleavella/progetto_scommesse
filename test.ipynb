{
 "cells": [
  {
   "cell_type": "code",
   "execution_count": 23,
   "metadata": {},
   "outputs": [],
   "source": [
    "import pandas as pd\n",
    "import numpy as np"
   ]
  },
  {
   "cell_type": "code",
   "execution_count": 24,
   "metadata": {},
   "outputs": [
    {
     "name": "stdout",
     "output_type": "stream",
     "text": [
      "   id    nome\n",
      "0   0   Milan\n",
      "1   1   Inter\n",
      "2   2   Milan\n",
      "3   3  Verona\n",
      "4   4   Milan\n",
      "5   5  Verona\n",
      "0   6   Inter\n"
     ]
    }
   ],
   "source": [
    "file='data/squadre.csv'\n",
    "df=pd.read_csv(file)\n",
    "nuovo_nome='Inter'\n",
    "nuovo_indice=max(df.index.values)+1\n",
    "new=pd.DataFrame([[nuovo_nome, nuovo_indice]], columns=['nome','id'])\n",
    "df=df.append(new)\n",
    "print(df)"
   ]
  },
  {
   "cell_type": "code",
   "execution_count": 28,
   "metadata": {},
   "outputs": [
    {
     "data": {
      "text/plain": [
       "False"
      ]
     },
     "execution_count": 28,
     "metadata": {},
     "output_type": "execute_result"
    }
   ],
   "source": [
    "'Milan' in df.nome.val"
   ]
  },
  {
   "cell_type": "code",
   "execution_count": 70,
   "metadata": {},
   "outputs": [],
   "source": [
    "import requests\n",
    "from bs4 import BeautifulSoup\n",
    "\n",
    "URL = 'https://www.calcio.com/calendario/ita-serie-a-2019-2020-spieltag/1/'\n",
    "page = requests.get(URL)\n",
    "\n",
    "soup = BeautifulSoup(page.content, 'html.parser')\n"
   ]
  },
  {
   "cell_type": "code",
   "execution_count": 113,
   "metadata": {},
   "outputs": [
    {
     "name": "stdout",
     "output_type": "stream",
     "text": [
      "Parma Juventus 0 1\n",
      "Udinese Milan 1 0\n",
      "Verona Bologna 1 1\n",
      "Sampdoria Lazio 0 3\n",
      "Torino Sassuolo 2 1\n",
      "Fiorentina Napoli 3 4\n",
      "Cagliari Brescia 0 1\n",
      "Roma Genoa 3 3\n",
      "SPAL Atalanta 2 3\n",
      "Inter Lecce 4 0\n"
     ]
    }
   ],
   "source": [
    "\n",
    "def \n",
    "    \n",
    "    URL = 'https://www.calcio.com/calendario/ita-serie-a-2019-2020-spieltag/1/'\n",
    "page = requests.get(URL)\n",
    "\n",
    "soup = BeautifulSoup(page.content, 'html.parser')\n",
    "    g=1\n",
    "    s_home=[]\n",
    "    s_away=[]\n",
    "    g_home=[]\n",
    "    g_away=[]\n",
    "    girone=[]\n",
    "\n",
    "    for tr in soup.find_all('tr'):\n",
    "        tds = tr.find_all('td',{\"class\": \"hell\"})\n",
    "        try:\n",
    "            home=tds[2].text.replace('\\n','')\n",
    "            away=tds[4].text.replace('\\n','')\n",
    "            ris=tds[5].text.replace('\\n','')\n",
    "            ris=ris.split(':')\n",
    "            ris_h=ris[0]\n",
    "            ris_a=ris[1].split('(')[0]\n",
    "            ris_h=int(ris_h)\n",
    "            ris_a=int(ris_a)\n",
    "            print(home,away,ris_h,ris_a)\n",
    "\n",
    "            s_home.append(home)\n",
    "            s_away.append(away)\n",
    "            g_home.append(ris_h)\n",
    "            g_away.append(ris_a)\n",
    "            girone.append(g)\n",
    "        except:\n",
    "            pass\n",
    "\n",
    "    for tr in soup.find_all('tr'):\n",
    "        tds = tr.find_all('td',{\"class\": \"dunkel\"})\n",
    "        try:\n",
    "            home=tds[2].text.replace('\\n','')\n",
    "            away=tds[4].text.replace('\\n','')\n",
    "            ris=tds[5].text.replace('\\n','')\n",
    "            ris=ris.split(':')\n",
    "            ris_h=ris[0]\n",
    "            ris_a=ris[1].split('(')[0]\n",
    "            ris_h=int(ris_h)\n",
    "            ris_a=int(ris_a)\n",
    "            print(home,away,ris_h,ris_a)\n",
    "\n",
    "            s_home.append(home)\n",
    "            s_away.append(away)\n",
    "            g_home.append(ris_h)\n",
    "            g_away.append(ris_a)\n",
    "            girone.append(g)\n",
    "        except:\n",
    "            pass\n",
    "    \n",
    "df=pd.DataFrame()\n",
    "df['team_h']=s_home\n",
    "df['team_a']=s_away\n",
    "df['gol_h']=g_home\n",
    "df['gol_a']=g_away\n",
    "\n",
    "#return df"
   ]
  },
  {
   "cell_type": "code",
   "execution_count": 114,
   "metadata": {},
   "outputs": [
    {
     "data": {
      "text/html": [
       "<div>\n",
       "<style scoped>\n",
       "    .dataframe tbody tr th:only-of-type {\n",
       "        vertical-align: middle;\n",
       "    }\n",
       "\n",
       "    .dataframe tbody tr th {\n",
       "        vertical-align: top;\n",
       "    }\n",
       "\n",
       "    .dataframe thead th {\n",
       "        text-align: right;\n",
       "    }\n",
       "</style>\n",
       "<table border=\"1\" class=\"dataframe\">\n",
       "  <thead>\n",
       "    <tr style=\"text-align: right;\">\n",
       "      <th></th>\n",
       "      <th>team_h</th>\n",
       "      <th>team_a</th>\n",
       "      <th>gol_h</th>\n",
       "      <th>gol_a</th>\n",
       "      <th>day</th>\n",
       "    </tr>\n",
       "  </thead>\n",
       "  <tbody>\n",
       "    <tr>\n",
       "      <th>0</th>\n",
       "      <td>Parma</td>\n",
       "      <td>Juventus</td>\n",
       "      <td>0</td>\n",
       "      <td>1</td>\n",
       "      <td>1</td>\n",
       "    </tr>\n",
       "    <tr>\n",
       "      <th>1</th>\n",
       "      <td>Udinese</td>\n",
       "      <td>Milan</td>\n",
       "      <td>1</td>\n",
       "      <td>0</td>\n",
       "      <td>1</td>\n",
       "    </tr>\n",
       "    <tr>\n",
       "      <th>2</th>\n",
       "      <td>Verona</td>\n",
       "      <td>Bologna</td>\n",
       "      <td>1</td>\n",
       "      <td>1</td>\n",
       "      <td>1</td>\n",
       "    </tr>\n",
       "    <tr>\n",
       "      <th>3</th>\n",
       "      <td>Sampdoria</td>\n",
       "      <td>Lazio</td>\n",
       "      <td>0</td>\n",
       "      <td>3</td>\n",
       "      <td>1</td>\n",
       "    </tr>\n",
       "    <tr>\n",
       "      <th>4</th>\n",
       "      <td>Torino</td>\n",
       "      <td>Sassuolo</td>\n",
       "      <td>2</td>\n",
       "      <td>1</td>\n",
       "      <td>1</td>\n",
       "    </tr>\n",
       "    <tr>\n",
       "      <th>5</th>\n",
       "      <td>Fiorentina</td>\n",
       "      <td>Napoli</td>\n",
       "      <td>3</td>\n",
       "      <td>4</td>\n",
       "      <td>1</td>\n",
       "    </tr>\n",
       "    <tr>\n",
       "      <th>6</th>\n",
       "      <td>Cagliari</td>\n",
       "      <td>Brescia</td>\n",
       "      <td>0</td>\n",
       "      <td>1</td>\n",
       "      <td>1</td>\n",
       "    </tr>\n",
       "    <tr>\n",
       "      <th>7</th>\n",
       "      <td>Roma</td>\n",
       "      <td>Genoa</td>\n",
       "      <td>3</td>\n",
       "      <td>3</td>\n",
       "      <td>1</td>\n",
       "    </tr>\n",
       "    <tr>\n",
       "      <th>8</th>\n",
       "      <td>SPAL</td>\n",
       "      <td>Atalanta</td>\n",
       "      <td>2</td>\n",
       "      <td>3</td>\n",
       "      <td>1</td>\n",
       "    </tr>\n",
       "    <tr>\n",
       "      <th>9</th>\n",
       "      <td>Inter</td>\n",
       "      <td>Lecce</td>\n",
       "      <td>4</td>\n",
       "      <td>0</td>\n",
       "      <td>1</td>\n",
       "    </tr>\n",
       "  </tbody>\n",
       "</table>\n",
       "</div>"
      ],
      "text/plain": [
       "       team_h    team_a  gol_h  gol_a  day\n",
       "0       Parma  Juventus      0      1    1\n",
       "1     Udinese     Milan      1      0    1\n",
       "2      Verona   Bologna      1      1    1\n",
       "3   Sampdoria     Lazio      0      3    1\n",
       "4      Torino  Sassuolo      2      1    1\n",
       "5  Fiorentina    Napoli      3      4    1\n",
       "6    Cagliari   Brescia      0      1    1\n",
       "7        Roma     Genoa      3      3    1\n",
       "8        SPAL  Atalanta      2      3    1\n",
       "9       Inter     Lecce      4      0    1"
      ]
     },
     "execution_count": 114,
     "metadata": {},
     "output_type": "execute_result"
    }
   ],
   "source": [
    "df=pd.DataFrame()\n",
    "df['team_h']=s_home\n",
    "df['team_a']=s_away\n",
    "df['gol_h']=g_home\n",
    "df['gol_a']=g_away\n",
    "df['day']=girone\n",
    "df"
   ]
  },
  {
   "cell_type": "code",
   "execution_count": null,
   "metadata": {},
   "outputs": [],
   "source": []
  }
 ],
 "metadata": {
  "kernelspec": {
   "display_name": "Python 3",
   "language": "python",
   "name": "python3"
  },
  "language_info": {
   "codemirror_mode": {
    "name": "ipython",
    "version": 3
   },
   "file_extension": ".py",
   "mimetype": "text/x-python",
   "name": "python",
   "nbconvert_exporter": "python",
   "pygments_lexer": "ipython3",
   "version": "3.8.1"
  }
 },
 "nbformat": 4,
 "nbformat_minor": 4
}
