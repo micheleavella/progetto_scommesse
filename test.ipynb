{
 "cells": [
  {
   "cell_type": "code",
   "execution_count": 1,
   "metadata": {},
   "outputs": [],
   "source": [
    "import pandas as pd\n",
    "import numpy as np"
   ]
  },
  {
   "cell_type": "code",
   "execution_count": 2,
   "metadata": {},
   "outputs": [
    {
     "name": "stdout",
     "output_type": "stream",
     "text": [
      "   id    nome\n",
      "0   0   Milan\n",
      "1   1   Inter\n",
      "2   2  Verona\n",
      "0   3   Inter\n"
     ]
    }
   ],
   "source": [
    "file='data/squadre.csv'\n",
    "df=pd.read_csv(file)\n",
    "nuovo_nome='Inter'\n",
    "nuovo_indice=max(df.index.values)+1\n",
    "new=pd.DataFrame([[nuovo_nome, nuovo_indice]], columns=['nome','id'])\n",
    "df=df.append(new)\n",
    "print(df)"
   ]
  },
  {
   "cell_type": "code",
   "execution_count": 4,
   "metadata": {},
   "outputs": [],
   "source": [
    "#'Milan' in df.nome.val"
   ]
  },
  {
   "cell_type": "code",
   "execution_count": 5,
   "metadata": {},
   "outputs": [],
   "source": [
    "import requests\n",
    "from bs4 import BeautifulSoup\n",
    "\n",
    "URL = 'https://www.calcio.com/calendario/ita-serie-a-2019-2020-spieltag/1/'\n",
    "page = requests.get(URL)\n",
    "\n",
    "soup = BeautifulSoup(page.content, 'html.parser')\n"
   ]
  },
  {
   "cell_type": "code",
   "execution_count": 12,
   "metadata": {},
   "outputs": [],
   "source": [
    "def scarica_ris(anno):\n",
    "    \n",
    "    URL = 'https://www.calcio.com/calendario/ita-serie-a-'+str(anno)+'-spieltag/1/'\n",
    "    page = requests.get(URL)\n",
    "\n",
    "    soup = BeautifulSoup(page.content, 'html.parser')\n",
    "    g=1\n",
    "    \n",
    "    s_home=[]\n",
    "    s_away=[]\n",
    "    g_home=[]\n",
    "    g_away=[]\n",
    "    girone=[]\n",
    "\n",
    "    for tr in soup.find_all('tr'):\n",
    "        tds = tr.find_all('td',{\"class\": \"hell\"})\n",
    "        try:\n",
    "            home=tds[2].text.replace('\\n','')\n",
    "            away=tds[4].text.replace('\\n','')\n",
    "            ris=tds[5].text.replace('\\n','')\n",
    "            ris=ris.split(':')\n",
    "            ris_h=ris[0]\n",
    "            ris_a=ris[1].split('(')[0]\n",
    "            ris_h=int(ris_h)\n",
    "            ris_a=int(ris_a)\n",
    "            print(home,away,ris_h,ris_a)\n",
    "\n",
    "            s_home.append(home)\n",
    "            s_away.append(away)\n",
    "            g_home.append(ris_h)\n",
    "            g_away.append(ris_a)\n",
    "            girone.append(g)\n",
    "        except:\n",
    "            pass\n",
    "\n",
    "    for tr in soup.find_all('tr'):\n",
    "        tds = tr.find_all('td',{\"class\": \"dunkel\"})\n",
    "        try:\n",
    "            home=tds[2].text.replace('\\n','')\n",
    "            away=tds[4].text.replace('\\n','')\n",
    "            ris=tds[5].text.replace('\\n','')\n",
    "            ris=ris.split(':')\n",
    "            ris_h=ris[0]\n",
    "            ris_a=ris[1].split('(')[0]\n",
    "            ris_h=int(ris_h)\n",
    "            ris_a=int(ris_a)\n",
    "            print(home,away,ris_h,ris_a)\n",
    "\n",
    "            s_home.append(home)\n",
    "            s_away.append(away)\n",
    "            g_home.append(ris_h)\n",
    "            g_away.append(ris_a)\n",
    "            girone.append(g)\n",
    "        except:\n",
    "            pass\n",
    "    \n",
    "    df=pd.DataFrame()\n",
    "    df['team_h']=s_home\n",
    "    df['team_a']=s_away\n",
    "    df['gol_h']=g_home\n",
    "    df['gol_a']=g_away\n",
    "\n",
    "    return df"
   ]
  },
  {
   "cell_type": "code",
   "execution_count": null,
   "metadata": {},
   "outputs": [],
   "source": [
    "df=pd.DataFrame()\n",
    "df['team_h']=s_home\n",
    "df['team_a']=s_away\n",
    "df['gol_h']=g_home\n",
    "df['gol_a']=g_away\n",
    "df['day']=girone\n",
    "df"
   ]
  },
  {
   "cell_type": "code",
   "execution_count": null,
   "metadata": {},
   "outputs": [],
   "source": []
  }
 ],
 "metadata": {
  "kernelspec": {
   "display_name": "Python 3",
   "language": "python",
   "name": "python3"
  },
  "language_info": {
   "codemirror_mode": {
    "name": "ipython",
    "version": 3
   },
   "file_extension": ".py",
   "mimetype": "text/x-python",
   "name": "python",
   "nbconvert_exporter": "python",
   "pygments_lexer": "ipython3",
   "version": "3.8.5"
  }
 },
 "nbformat": 4,
 "nbformat_minor": 4
}
