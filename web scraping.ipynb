{
 "cells": [
  {
   "cell_type": "code",
   "execution_count": 1,
   "metadata": {},
   "outputs": [],
   "source": [
    "import pandas as pd\n",
    "import numpy as np"
   ]
  },
  {
   "cell_type": "code",
   "execution_count": 2,
   "metadata": {},
   "outputs": [],
   "source": [
    "import requests\n",
    "from bs4 import BeautifulSoup"
   ]
  },
  {
   "cell_type": "code",
   "execution_count": 5,
   "metadata": {},
   "outputs": [],
   "source": [
    "from tqdm import tqdm\n",
    "def risultati(stagione):\n",
    "    s_home=[]\n",
    "    s_away=[]\n",
    "    g_home=[]\n",
    "    g_away=[]\n",
    "    girone=[]\n",
    "    for g in tqdm(range(1,40)):\n",
    "        try:\n",
    "            URL = 'https://www.calcio.com/calendario/ita-serie-a-'+stagione+'-spieltag/'+str(g)+'/'\n",
    "            page = requests.get(URL)\n",
    "            soup = BeautifulSoup(page.content, 'html.parser')\n",
    "        except:\n",
    "            break\n",
    "    \n",
    "\n",
    "        for tr in soup.find_all('tr'):\n",
    "            tds = tr.find_all('td',{\"class\": \"hell\"})\n",
    "            try:\n",
    "                home=tds[2].text.replace('\\n','')\n",
    "                away=tds[4].text.replace('\\n','')\n",
    "                ris=tds[5].text.replace('\\n','')\n",
    "                ris=ris.split(':')\n",
    "                ris_h=ris[0]\n",
    "                ris_a=ris[1].split('(')[0]\n",
    "                ris_h=int(ris_h)\n",
    "                ris_a=int(ris_a)\n",
    "                #print(home,away,ris_h,ris_a)\n",
    "\n",
    "                s_home.append(home)\n",
    "                s_away.append(away)\n",
    "                g_home.append(ris_h)\n",
    "                g_away.append(ris_a)\n",
    "                girone.append(g)\n",
    "            except:\n",
    "                pass\n",
    "\n",
    "        for tr in soup.find_all('tr'):\n",
    "            tds = tr.find_all('td',{\"class\": \"dunkel\"})\n",
    "            try:\n",
    "                home=tds[2].text.replace('\\n','')\n",
    "                away=tds[4].text.replace('\\n','')\n",
    "                ris=tds[5].text.replace('\\n','')\n",
    "                ris=ris.split(':')\n",
    "                ris_h=ris[0]\n",
    "                ris_a=ris[1].split('(')[0]\n",
    "                ris_h=int(ris_h)\n",
    "                ris_a=int(ris_a)\n",
    "                #print(home,away,ris_h,ris_a)\n",
    "\n",
    "                s_home.append(home)\n",
    "                s_away.append(away)\n",
    "                g_home.append(ris_h)\n",
    "                g_away.append(ris_a)\n",
    "                girone.append(g)\n",
    "            except:\n",
    "                pass\n",
    "    \n",
    "    df=pd.DataFrame()\n",
    "    df['team_h']=s_home\n",
    "    df['team_a']=s_away\n",
    "    df['gol_h']=g_home\n",
    "    df['gol_a']=g_away\n",
    "    df['giornata']=girone\n",
    "\n",
    "    return df"
   ]
  },
  {
   "cell_type": "code",
   "execution_count": 19,
   "metadata": {},
   "outputs": [
    {
     "name": "stderr",
     "output_type": "stream",
     "text": [
      "100%|██████████| 39/39 [00:06<00:00,  6.44it/s]\n",
      "100%|██████████| 39/39 [00:25<00:00,  1.51it/s]\n",
      "100%|██████████| 39/39 [00:26<00:00,  1.46it/s]\n",
      "100%|██████████| 39/39 [00:25<00:00,  1.50it/s]\n",
      "100%|██████████| 39/39 [00:27<00:00,  1.43it/s]\n",
      "100%|██████████| 39/39 [00:26<00:00,  1.46it/s]\n",
      "100%|██████████| 39/39 [00:27<00:00,  1.43it/s]\n",
      "100%|██████████| 39/39 [00:27<00:00,  1.44it/s]\n"
     ]
    }
   ],
   "source": [
    "anno=2011\n",
    "for i in range(8):\n",
    "    stagione=str(anno+i)+'-'+str(anno+1+i)\n",
    "    ris=risultati(stagione)\n",
    "    #ris.to_csv('data/stagione'+stagione+'.csv',index=False)"
   ]
  },
  {
   "cell_type": "markdown",
   "metadata": {},
   "source": [
    "# Dataset\n",
    "Ogni partita e' un dato X che contiene 2x3 informazioni a1,a2,a3 per ogni team. La Y e' l'esito, team 1 vince 1, team 2 vince -1"
   ]
  },
  {
   "cell_type": "code",
   "execution_count": 6,
   "metadata": {},
   "outputs": [
    {
     "data": {
      "text/html": [
       "<div>\n",
       "<style scoped>\n",
       "    .dataframe tbody tr th:only-of-type {\n",
       "        vertical-align: middle;\n",
       "    }\n",
       "\n",
       "    .dataframe tbody tr th {\n",
       "        vertical-align: top;\n",
       "    }\n",
       "\n",
       "    .dataframe thead th {\n",
       "        text-align: right;\n",
       "    }\n",
       "</style>\n",
       "<table border=\"1\" class=\"dataframe\">\n",
       "  <thead>\n",
       "    <tr style=\"text-align: right;\">\n",
       "      <th></th>\n",
       "      <th>team_h</th>\n",
       "      <th>team_a</th>\n",
       "      <th>gol_h</th>\n",
       "      <th>gol_a</th>\n",
       "      <th>giornata</th>\n",
       "    </tr>\n",
       "  </thead>\n",
       "  <tbody>\n",
       "    <tr>\n",
       "      <th>0</th>\n",
       "      <td>Verona</td>\n",
       "      <td>Milan</td>\n",
       "      <td>2</td>\n",
       "      <td>1</td>\n",
       "      <td>1</td>\n",
       "    </tr>\n",
       "    <tr>\n",
       "      <th>1</th>\n",
       "      <td>Inter</td>\n",
       "      <td>Genoa</td>\n",
       "      <td>2</td>\n",
       "      <td>0</td>\n",
       "      <td>1</td>\n",
       "    </tr>\n",
       "    <tr>\n",
       "      <th>2</th>\n",
       "      <td>Lazio</td>\n",
       "      <td>Udinese</td>\n",
       "      <td>2</td>\n",
       "      <td>1</td>\n",
       "      <td>1</td>\n",
       "    </tr>\n",
       "    <tr>\n",
       "      <th>3</th>\n",
       "      <td>Napoli</td>\n",
       "      <td>Bologna</td>\n",
       "      <td>3</td>\n",
       "      <td>0</td>\n",
       "      <td>1</td>\n",
       "    </tr>\n",
       "    <tr>\n",
       "      <th>4</th>\n",
       "      <td>Torino</td>\n",
       "      <td>Sassuolo</td>\n",
       "      <td>2</td>\n",
       "      <td>0</td>\n",
       "      <td>1</td>\n",
       "    </tr>\n",
       "    <tr>\n",
       "      <th>...</th>\n",
       "      <td>...</td>\n",
       "      <td>...</td>\n",
       "      <td>...</td>\n",
       "      <td>...</td>\n",
       "      <td>...</td>\n",
       "    </tr>\n",
       "    <tr>\n",
       "      <th>375</th>\n",
       "      <td>Catania</td>\n",
       "      <td>Atalanta</td>\n",
       "      <td>2</td>\n",
       "      <td>1</td>\n",
       "      <td>38</td>\n",
       "    </tr>\n",
       "    <tr>\n",
       "      <th>376</th>\n",
       "      <td>Genoa</td>\n",
       "      <td>Roma</td>\n",
       "      <td>1</td>\n",
       "      <td>0</td>\n",
       "      <td>38</td>\n",
       "    </tr>\n",
       "    <tr>\n",
       "      <th>377</th>\n",
       "      <td>Napoli</td>\n",
       "      <td>Verona</td>\n",
       "      <td>5</td>\n",
       "      <td>1</td>\n",
       "      <td>38</td>\n",
       "    </tr>\n",
       "    <tr>\n",
       "      <th>378</th>\n",
       "      <td>Parma</td>\n",
       "      <td>Livorno</td>\n",
       "      <td>2</td>\n",
       "      <td>0</td>\n",
       "      <td>38</td>\n",
       "    </tr>\n",
       "    <tr>\n",
       "      <th>379</th>\n",
       "      <td>Fiorentina</td>\n",
       "      <td>Torino</td>\n",
       "      <td>2</td>\n",
       "      <td>2</td>\n",
       "      <td>38</td>\n",
       "    </tr>\n",
       "  </tbody>\n",
       "</table>\n",
       "<p>380 rows × 5 columns</p>\n",
       "</div>"
      ],
      "text/plain": [
       "         team_h    team_a  gol_h  gol_a  giornata\n",
       "0        Verona     Milan      2      1         1\n",
       "1         Inter     Genoa      2      0         1\n",
       "2         Lazio   Udinese      2      1         1\n",
       "3        Napoli   Bologna      3      0         1\n",
       "4        Torino  Sassuolo      2      0         1\n",
       "..          ...       ...    ...    ...       ...\n",
       "375     Catania  Atalanta      2      1        38\n",
       "376       Genoa      Roma      1      0        38\n",
       "377      Napoli    Verona      5      1        38\n",
       "378       Parma   Livorno      2      0        38\n",
       "379  Fiorentina    Torino      2      2        38\n",
       "\n",
       "[380 rows x 5 columns]"
      ]
     },
     "execution_count": 6,
     "metadata": {},
     "output_type": "execute_result"
    }
   ],
   "source": [
    "df='data/stagione2013-2014.csv'\n",
    "df=pd.read_csv(df)\n",
    "df"
   ]
  },
  {
   "cell_type": "code",
   "execution_count": 27,
   "metadata": {},
   "outputs": [],
   "source": [
    "dic={}\n",
    "dic['pippo']=np.array([1,2,3])"
   ]
  },
  {
   "cell_type": "code",
   "execution_count": 48,
   "metadata": {},
   "outputs": [],
   "source": [
    "def trasforma(s):\n",
    "    out=[]\n",
    "    for i in s:\n",
    "        if i=='v': out.append(3)\n",
    "        elif i=='p': out.append(1)\n",
    "        else: out.append(0)\n",
    "    return out\n",
    "            \n",
    "class team:\n",
    "    def __init__(self,risultati,dr):\n",
    "        vec=trasforma(risultati)\n",
    "        print(vec)\n",
    "        self.a1 = vec[-1]             #ultima partita\n",
    "        self.a2 = np.sum(vec[-3:])    #ultim tre partite\n",
    "        self.a3 = np.sum(vec)         #tutte le partite\n",
    "        self.ultime = risultati       #stringa v=vitt l=sconfitta p=pareggio\n",
    "        self.dr = dr                  #differenzareti\n",
    "    def aggiorna(self,risultato,dr):\n",
    "        self.dr += dr\n",
    "        self.ultime+=risultato\n",
    "        self.ultime=self.ultime[1:]\n",
    "        vec=trasforma(self.ultime)\n",
    "        self.a1 = vec[-1]          #ultima partita\n",
    "        self.a2 = np.sum(vec[-3:]) #ultim tre partite\n",
    "        self.a3 +=self.a1          #tutte le partite\n",
    "    \n",
    "    def stampa(self):\n",
    "        print('a1:',self.a1,'  a2:',self.a2,'  a3:',self.a3,'  diff reti:',self.dr,'  ultimi ris:',self.ultime)\n",
    "        return\n"
   ]
  },
  {
   "cell_type": "code",
   "execution_count": 49,
   "metadata": {},
   "outputs": [
    {
     "name": "stdout",
     "output_type": "stream",
     "text": [
      "[0, 3, 1]\n"
     ]
    }
   ],
   "source": [
    "milan=team('lvp',3)"
   ]
  },
  {
   "cell_type": "code",
   "execution_count": 50,
   "metadata": {},
   "outputs": [
    {
     "name": "stdout",
     "output_type": "stream",
     "text": [
      "a1: 1   a2: 4   a3: 4   diff reti: 3   ultimi ris: lvp\n"
     ]
    }
   ],
   "source": [
    "milan.stampa()"
   ]
  },
  {
   "cell_type": "code",
   "execution_count": 51,
   "metadata": {},
   "outputs": [],
   "source": [
    "milan.aggiorna('l',-2)"
   ]
  },
  {
   "cell_type": "code",
   "execution_count": 52,
   "metadata": {},
   "outputs": [
    {
     "name": "stdout",
     "output_type": "stream",
     "text": [
      "a1: 0   a2: 4   a3: 4   diff reti: 1   ultimi ris: vpl\n"
     ]
    }
   ],
   "source": [
    "milan.stampa()"
   ]
  },
  {
   "cell_type": "code",
   "execution_count": null,
   "metadata": {},
   "outputs": [],
   "source": []
  }
 ],
 "metadata": {
  "kernelspec": {
   "display_name": "Python 3",
   "language": "python",
   "name": "python3"
  },
  "language_info": {
   "codemirror_mode": {
    "name": "ipython",
    "version": 3
   },
   "file_extension": ".py",
   "mimetype": "text/x-python",
   "name": "python",
   "nbconvert_exporter": "python",
   "pygments_lexer": "ipython3",
   "version": "3.8.5"
  }
 },
 "nbformat": 4,
 "nbformat_minor": 4
}
